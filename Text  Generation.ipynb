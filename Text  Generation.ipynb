{
 "cells": [
  {
   "cell_type": "code",
   "execution_count": null,
   "metadata": {
    "colab": {
     "base_uri": "https://localhost:8080/"
    },
    "id": "VMsHSYeBOZfj",
    "outputId": "2844471d-e2a2-4b8c-f421-b0f81119d031"
   },
   "outputs": [],
   "source": [
    "# import dependencies\n",
    "import numpy\n",
    "import sys\n",
    "import nltk\n",
    "nltk.download('stopwords')\n",
    "from nltk.tokenize import RegexpTokenizer\n",
    "from nltk.corpus import stopwords\n",
    "from keras.models import Sequential\n",
    "from keras.layers import Dense, Dropout, LSTM\n",
    "from keras.utils import np_utils\n",
    "from keras.callbacks import ModelCheckpoint"
   ]
  },
  {
   "cell_type": "code",
   "execution_count": null,
   "metadata": {
    "id": "ukpMrGQFRVWH"
   },
   "outputs": [],
   "source": [
    "# load data\n",
    "file = open(\"/content/sample_data/frankenstein-2.txt\").read()"
   ]
  },
  {
   "cell_type": "code",
   "execution_count": null,
   "metadata": {
    "id": "dshVV56wTPBe"
   },
   "outputs": [],
   "source": [
    "# tokenization\n",
    "# standardization\n",
    "def tokenize_words(input):\n",
    "  input = input.lower()\n",
    "  tokenizer = RegexpTokenizer(r'\\w+')\n",
    "  tokens = tokenizer.tokenize(input)\n",
    "  filtered = filter(lambda token: token not in stopwords.words('english'), tokens)\n",
    "  return \" \".join(filtered)\n",
    "  \n",
    "processed_inputs = tokenize_words(file)"
   ]
  },
  {
   "cell_type": "code",
   "execution_count": null,
   "metadata": {
    "id": "KjIyl1FfT-62"
   },
   "outputs": [],
   "source": [
    "# chars to numbers\n",
    "chars = sorted(list(set(processed_inputs)))\n",
    "char_to_num = dict((c,i) for i, c in enumerate(chars))"
   ]
  },
  {
   "cell_type": "code",
   "execution_count": null,
   "metadata": {
    "colab": {
     "base_uri": "https://localhost:8080/"
    },
    "id": "6ilDg_F6Uxmf",
    "outputId": "2b3dc14e-f8b9-40e6-a70a-31c204f69931"
   },
   "outputs": [],
   "source": [
    "# check if words to chars to num (?!) has worked?\n",
    "input_len = len(processed_inputs)\n",
    "vocab_len = len(chars)\n",
    "print(\"Total number of characters:\", input_len)\n",
    "print(\"Total vocab:\", vocab_len) "
   ]
  },
  {
   "cell_type": "code",
   "execution_count": null,
   "metadata": {
    "id": "EsHP57xFVLYB"
   },
   "outputs": [],
   "source": [
    "# seq length\n",
    "seq_length = 100\n",
    "x_data = []\n",
    "y_data = []"
   ]
  },
  {
   "cell_type": "code",
   "execution_count": null,
   "metadata": {
    "colab": {
     "base_uri": "https://localhost:8080/"
    },
    "id": "Wu84jVG5VTgl",
    "outputId": "af370853-fcb6-4a2a-b833-6986990d8e6e"
   },
   "outputs": [],
   "source": [
    "# loop through the sequence\n",
    "for i in range(0, input_len - seq_length, 1):\n",
    "  in_seq = processed_inputs[i:i + seq_length]\n",
    "  out_seq = processed_inputs[i + seq_length]\n",
    "  x_data.append([char_to_num[char] for char in in_seq])\n",
    "  y_data.append(char_to_num[out_seq])\n",
    "\n",
    "n_patterns = len(x_data)\n",
    "print(\"Total Patterns:\", n_patterns)"
   ]
  },
  {
   "cell_type": "code",
   "execution_count": null,
   "metadata": {
    "id": "YGRBy1_XVjJo"
   },
   "outputs": [],
   "source": [
    "# convert input sequence to np array and so on\n",
    "X = numpy.reshape(x_data, (n_patterns, seq_length, 1))\n",
    "X = X/float(vocab_len)"
   ]
  },
  {
   "cell_type": "code",
   "execution_count": null,
   "metadata": {
    "id": "vNHW-Q8IVpEB"
   },
   "outputs": [],
   "source": [
    "# one-hot encoding\n",
    "y = np_utils.to_categorical(y_data)"
   ]
  },
  {
   "cell_type": "code",
   "execution_count": null,
   "metadata": {
    "id": "ZJurAipdV4P0"
   },
   "outputs": [],
   "source": [
    "# creating the model\n",
    "model = Sequential()\n",
    "model.add(LSTM(256, input_shape = (X.shape[1], X.shape[2]), return_sequences = True))\n",
    "model.add(Dropout(0.2))\n",
    "model.add(LSTM(256, return_sequences = True))\n",
    "model.add(Dropout(0.2))\n",
    "model.add(LSTM(128))\n",
    "model.add(Dropout(0.2))\n",
    "model.add(Dense(y.shape[1], activation = 'softmax'))"
   ]
  },
  {
   "cell_type": "code",
   "execution_count": null,
   "metadata": {
    "id": "44vYbCVZWSAI"
   },
   "outputs": [],
   "source": [
    "# compile the model\n",
    "model.compile(loss = 'categorical_crossentropy', optimizer = 'adam')"
   ]
  },
  {
   "cell_type": "code",
   "execution_count": null,
   "metadata": {
    "id": "yzCkRNQmWaz2"
   },
   "outputs": [],
   "source": [
    "# saving weights\n",
    "filepath = 'model_weights_saved.hdf5'\n",
    "checkpoint = ModelCheckpoint(filepath, monitor = 'loss', verbose = 1, save_best_only = True, mode = 'min')\n",
    "desired_callbacks = [checkpoint]"
   ]
  },
  {
   "cell_type": "code",
   "execution_count": null,
   "metadata": {
    "colab": {
     "base_uri": "https://localhost:8080/"
    },
    "id": "ufs1KhRMWtLo",
    "outputId": "6aa53058-ea93-44f2-8d8a-b4557e417c69"
   },
   "outputs": [],
   "source": [
    "# fit model and let it train\n",
    "model.fit(X, y, epochs = 4, batch_size = 256, callbacks = desired_callbacks)"
   ]
  },
  {
   "cell_type": "code",
   "execution_count": null,
   "metadata": {
    "id": "6f_I67SZW7CH"
   },
   "outputs": [],
   "source": [
    "# recompile model with the saved weights\n",
    "filename = \"model_weights_saved.hdf5\"\n",
    "model.load_weights(filename)\n",
    "model.compile(loss = 'categorical_crossentropy', optimizer = 'adam')"
   ]
  },
  {
   "cell_type": "code",
   "execution_count": null,
   "metadata": {
    "id": "SAMvqWKJXQKO"
   },
   "outputs": [],
   "source": [
    "# ouput of the model back into characters\n",
    "num_to_chars = dict((i, c) for i, c in enumerate(chars))"
   ]
  },
  {
   "cell_type": "code",
   "execution_count": null,
   "metadata": {
    "colab": {
     "base_uri": "https://localhost:8080/"
    },
    "id": "CF658i0-XWw3",
    "outputId": "94ab189b-218f-4b81-d0ae-1049f25cb658"
   },
   "outputs": [],
   "source": [
    "# random seed to help generate\n",
    "start = numpy.random.randint(0, len(x_data) - 1)\n",
    "pattern = x_data[start]\n",
    "print('Random Seed:')\n",
    "print(\"\\\"\",''.join([num_to_chars[value] for value in pattern]),\"\\\"\")"
   ]
  },
  {
   "cell_type": "code",
   "execution_count": null,
   "metadata": {
    "colab": {
     "base_uri": "https://localhost:8080/"
    },
    "id": "ROdoIgUeXcvh",
    "outputId": "ff459dc7-b3c4-4525-c751-9da7788bab88"
   },
   "outputs": [],
   "source": [
    "# generate the text\n",
    "for i in range(1000):\n",
    "  x = numpy.reshape(pattern, (1, len(pattern), 1))\n",
    "  x = x / float(vocab_len)\n",
    "  prediction = model.predict(x, verbose=0)\n",
    "  index = numpy.argmax(prediction)\n",
    "  result = num_to_chars[index]\n",
    "  seq_in = [num_to_chars[value] for value in pattern]\n",
    "  sys.stdout.write(result)\n",
    "  pattern.append(index)\n",
    "  pattern = pattern[1:len(pattern)]"
   ]
  }
 ],
 "metadata": {
  "colab": {
   "collapsed_sections": [],
   "name": "Text Generation.ipynb",
   "provenance": []
  },
  "kernelspec": {
   "display_name": "Python 3",
   "language": "python",
   "name": "python3"
  },
  "language_info": {
   "codemirror_mode": {
    "name": "ipython",
    "version": 3
   },
   "file_extension": ".py",
   "mimetype": "text/x-python",
   "name": "python",
   "nbconvert_exporter": "python",
   "pygments_lexer": "ipython3",
   "version": "3.8.5"
  }
 },
 "nbformat": 4,
 "nbformat_minor": 1
}
